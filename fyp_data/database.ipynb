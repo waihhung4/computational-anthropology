{
 "cells": [
  {
   "cell_type": "code",
   "execution_count": 1,
   "metadata": {},
   "outputs": [],
   "source": [
    "import pymongo"
   ]
  },
  {
   "cell_type": "markdown",
   "metadata": {},
   "source": [
    "<h1>GET<h1>"
   ]
  },
  {
   "cell_type": "code",
   "execution_count": null,
   "metadata": {},
   "outputs": [],
   "source": [
    "def get_all_url():\n",
    "    my_client: pymongo.MongoClient = pymongo.MongoClient(\"mongodb://localhost:27017/\")\n",
    "    my_db: pymongo.database.Database = my_client[\"final-year-project\"]\n",
    "    url_collection: pymongo.database.Collection = my_db[\"url\"]\n",
    "    try:\n",
    "        result = url_collection.find()\n",
    "        my_client.close()\n",
    "        return list(result)\n",
    "    except Exception as e:\n",
    "        print(f\"An error occurred: {e}\")\n",
    "        my_client.close()\n",
    "        return []\n",
    "    \n",
    "def get_all_content():\n",
    "    my_client: pymongo.MongoClient = pymongo.MongoClient(\"mongodb://localhost:27017/\")\n",
    "    my_db: pymongo.database.Database = my_client[\"final-year-project\"]\n",
    "    content_collection: pymongo.database.Collection = my_db[\"content\"]\n",
    "    try:\n",
    "        result = content_collection.find()\n",
    "        my_client.close()\n",
    "        return list(result)\n",
    "    except Exception as e:\n",
    "        my_client.close()\n",
    "        print(f\"An error occurred: {e}\")\n",
    "        return []\n",
    "\n",
    "def get_content_by_keyword(search_keyword: str):\n",
    "    try:\n",
    "        with pymongo.MongoClient(\"mongodb://localhost:27017/\") as client:\n",
    "            db = client[\"final-year-project\"]\n",
    "            collection = db[\"content\"]\n",
    "            \n",
    "            result = collection.find({\"search_keyword\": search_keyword})\n",
    "            return list(result)\n",
    "    except pymongo.errors.PyMongoError as e:\n",
    "        print(f\"An error occurred: {e}\")\n",
    "        return []\n",
    "    \n",
    "    \n",
    "def get_all_image_mapping():\n",
    "    my_client: pymongo.MongoClient = pymongo.MongoClient(\"mongodb://localhost:27017/\")\n",
    "    my_db: pymongo.database.Database = my_client[\"final-year-project\"]\n",
    "    image_mapping_collection: pymongo.database.Collection = my_db[\"image_mapping\"]\n",
    "    try:\n",
    "        result = image_mapping_collection.find()\n",
    "        my_client.close()\n",
    "        return list(result)\n",
    "    except Exception as e:\n",
    "        my_client.close()\n",
    "        print(f\"An error occurred: {e}\")\n",
    "        return []\n",
    "    "
   ]
  },
  {
   "cell_type": "markdown",
   "metadata": {},
   "source": [
    "<h1>UPDATE<h1>"
   ]
  },
  {
   "cell_type": "code",
   "execution_count": null,
   "metadata": {},
   "outputs": [],
   "source": [
    "def update_content_table(content: dict):\n",
    "    my_client: pymongo.MongoClient = pymongo.MongoClient(\"mongodb://localhost:27017/\")\n",
    "    my_db: pymongo.database.Database = my_client[\"final-year-project\"]\n",
    "    content_collection: pymongo.database.Collection = my_db[\"content\"]\n",
    "    try:\n",
    "        filter_criteria = {\"_id\": content[\"_id\"]}\n",
    "        update_operation = {\"$set\": content}\n",
    "        result = content_collection.update_one(filter_criteria, update_operation)\n",
    "        \n",
    "        if result.matched_count > 0:\n",
    "            print(f\"Updated document with ID: {content['_id']}\")\n",
    "        else:\n",
    "            print(\"No matching document found for update.\")\n",
    "        \n",
    "    except Exception as e:\n",
    "        print(f\"An error occurred: {e}\")\n",
    "    finally:    \n",
    "        my_client.close()\n",
    "        \n",
    "def update_image_mapping(image_mapping: dict):\n",
    "    my_client: pymongo.MongoClient = pymongo.MongoClient(\"mongodb://localhost:27017/\")\n",
    "    my_db: pymongo.database.Database = my_client[\"final-year-project\"]\n",
    "    image_mapping_collection: pymongo.database.Collection = my_db[\"image_mapping\"]\n",
    "    try:\n",
    "        # Define the filter and update operation\n",
    "        filter_criteria = {\"_id\": image_mapping[\"_id\"]}\n",
    "        update_operation = {\"$set\": image_mapping}\n",
    "        \n",
    "        print(\"Going to update\")\n",
    "        result = image_mapping_collection.update_one(filter_criteria, update_operation)\n",
    "        \n",
    "        if result.matched_count > 0:\n",
    "            print(f\"Updated document with ID: {image_mapping['_id']}\")\n",
    "        else:\n",
    "            print(\"No matching document found for update.\")\n",
    "            \n",
    "    except Exception as e:\n",
    "        print(f\"An error occurred: {e}\")\n",
    "    finally:\n",
    "        my_client.close()"
   ]
  },
  {
   "cell_type": "markdown",
   "metadata": {},
   "source": [
    "<h1>INSERT<h1>"
   ]
  },
  {
   "cell_type": "code",
   "execution_count": null,
   "metadata": {},
   "outputs": [],
   "source": [
    "def insert_content_table(content: dict):\n",
    "    my_client: pymongo.MongoClient = pymongo.MongoClient(\"mongodb://localhost:27017/\")\n",
    "    my_db: pymongo.database.Database = my_client[\"final-year-project\"]\n",
    "    collection_name = \"content\"\n",
    "    \n",
    "    my_db.create_collection(collection_name) if my_db.get_collection(collection_name) is None else None\n",
    "    \n",
    "    content_collection: pymongo.database.Collection = my_db[collection_name]\n",
    "    try:\n",
    "        result = content_collection.insert_one(content)\n",
    "        print(f\"Inserted document with ID: {result.inserted_id}\")\n",
    "    except Exception as e:\n",
    "        print(f\"An error occurred: {e}\")\n",
    "    finally:\n",
    "        my_client.close()\n",
    "        \n",
    "        \n",
    "def insert_image_mapping(image: dict):\n",
    "    my_client: pymongo.MongoClient = pymongo.MongoClient(\"mongodb://localhost:27017/\")\n",
    "    my_db: pymongo.database.Database = my_client[\"final-year-project\"]\n",
    "    \n",
    "    collection_name = \"image_mapping\"\n",
    "    \n",
    "    my_db.create_collection(collection_name) if my_db.get_collection(collection_name) is None else None\n",
    "    \n",
    "    image_mapping_collection: pymongo.database.Collection = my_db[collection_name]\n",
    "    try:\n",
    "        result = image_mapping_collection.insert_one(image)\n",
    "        print(f\"Inserted document with ID: {result.inserted_id}\")\n",
    "        \n",
    "    except Exception as e:\n",
    "        print(f\"An error occurred: {e}\")\n",
    "    finally:\n",
    "        my_client.close()"
   ]
  }
 ],
 "metadata": {
  "kernelspec": {
   "display_name": "venv",
   "language": "python",
   "name": "python3"
  },
  "language_info": {
   "codemirror_mode": {
    "name": "ipython",
    "version": 3
   },
   "file_extension": ".py",
   "mimetype": "text/x-python",
   "name": "python",
   "nbconvert_exporter": "python",
   "pygments_lexer": "ipython3",
   "version": "3.12.4"
  }
 },
 "nbformat": 4,
 "nbformat_minor": 2
}
