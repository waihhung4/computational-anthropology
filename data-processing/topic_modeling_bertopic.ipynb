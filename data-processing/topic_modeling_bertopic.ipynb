{
 "cells": [
  {
   "cell_type": "code",
   "execution_count": 2,
   "metadata": {},
   "outputs": [],
   "source": [
    "import pymongo\n",
    "import pymongo.database\n",
    "import pandas as pd\n",
    "\n",
    "def get_all_preprocessed_content():\n",
    "    my_client: pymongo.MongoClient = pymongo.MongoClient(\"mongodb://localhost:27017/\")\n",
    "    my_db: pymongo.database.Database = my_client[\"final-year-project\"]\n",
    "    content: pymongo.database.Collection = my_db[\"preprocessed_content\"]\n",
    "    try:\n",
    "        result = content.find()\n",
    "        return list(result)\n",
    "    except Exception as e:\n",
    "        print(f\"An error occurred: {e}\")\n",
    "        return []"
   ]
  }
 ],
 "metadata": {
  "kernelspec": {
   "display_name": "venv",
   "language": "python",
   "name": "python3"
  },
  "language_info": {
   "codemirror_mode": {
    "name": "ipython",
    "version": 3
   },
   "file_extension": ".py",
   "mimetype": "text/x-python",
   "name": "python",
   "nbconvert_exporter": "python",
   "pygments_lexer": "ipython3",
   "version": "3.12.4"
  }
 },
 "nbformat": 4,
 "nbformat_minor": 2
}
